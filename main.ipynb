{
  "cells": [
    {
      "metadata": {
        "_uuid": "20c426c3071229c82bf7428edff608bbf71af352"
      },
      "cell_type": "markdown",
      "source": "# Mapping Potholes\nThe idea of this experiment is to generate a solution that would help the institutions responsible for street maintenance, deciding where to allocate their resources.\n\nIn order for the solution to reach its potential, a large number of cars should make use of vibration sensors, through devices installed in the cars or an application installed on the driver's cell phone. By capturing the data, such as .csv files on data/, they would be sent to a processing center where would run the algorithm of this repository, which uses the Crowdsensing concept to generate a map with the most harmful potholes to drivers.\n\n## 1 Libraries and Constants"
    },
    {
      "metadata": {
        "trusted": true,
        "_uuid": "0bc1c2a59935f7af61200f6f9aa4734fecf070fc"
      },
      "cell_type": "code",
      "source": "import pandas as pd\nimport numpy as np\nimport folium as fol\nimport seaborn as sns\nimport matplotlib.pyplot as plt\n%matplotlib notebook\n\nfrom os import walk\nfrom geopy.distance import geodesic\n\nFLOAT_COLS = ['gFx', 'gFy', 'gFz', 'Latitude', 'Longitude', 'Speed (m/s)']",
      "execution_count": null,
      "outputs": []
    },
    {
      "metadata": {
        "_uuid": "7cb6cc1509826cbff7335607983b50176f6885e4"
      },
      "cell_type": "markdown",
      "source": "## 2 Function Definition"
    },
    {
      "metadata": {
        "trusted": true,
        "_uuid": "b7bc5d24176b8579ecaa23577f41f710c5fc226f"
      },
      "cell_type": "code",
      "source": "def read_file(file_path):\n    # Read dataset\n    df = pd.read_csv(file_path, sep=',')\n\n    #Preparing dateset\n    df = df.apply(lambda x: x.str.replace(',', '.'), axis=1)\n    df[FLOAT_COLS] = df[FLOAT_COLS].astype(np.float32)\n    df = df[(df['Latitude'] != 0) & (df['Longitude'] != 0)]\n    df['Speed (m/s)'] = df['Speed (m/s)']*3.6\n    \n    # renaming column name to better understanding\n    df = df.rename(index=str, columns={'Speed (m/s)': 'Speed(km/h)'})\n\n    return df[['time', 'gFx', 'gFy', 'gFz', 'Latitude', 'Longitude', 'Speed(km/h)']]\n\ndef define_col_to_use(df):\n    stats = {\n        'gFx': df['gFx'].median(),\n        'gFy': df['gFy'].median(),\n        'gFz': df['gFz'].median()\n    }\n\n    return max(stats, key=stats.get)\n\ndef select_bad_point_nearby(row, df_bad_points):\n    if(len(df_bad_points) == 0): return -1\n\n    point_lat_sup = row['latitude'] + 0.0001\n    point_lon_sup = row['longitude'] + 0.0001\n    point_lat_inf = row['latitude'] - 0.0001\n    point_lon_inf = row['longitude'] - 0.0001\n    \n    #print(len(df_bad_points))\n    #print('Existe Algum ' + str((((df_bad_points['latitude'] > point_lat_inf) & (df_bad_points['longitude'] > point_lon_inf)) & ((df_bad_points['latitude'] < point_lat_sup) & (df_bad_points['longitude'] < point_lon_sup))).any()))\n    df = df_bad_points[(((df_bad_points['latitude'] > point_lat_inf) & (df_bad_points['longitude'] > point_lon_inf)) & ((df_bad_points['latitude'] < point_lat_sup) & (df_bad_points['longitude'] < point_lon_sup)))]\n\n    if len(df) == 0:\n        return -1\n    else:\n        row_return = -1\n        distance = 9999999 # Init distance\n\n        for index, row2 in df.iterrows():\n\n            geodesic_distance = geodesic((row2['latitude'], row2['longitude']), (row['latitude'], row['longitude']))\n            if(geodesic_distance < distance):\n                distance = geodesic_distance\n                row_return = index\n\n    return row_return\n    \n    \ndef holes_voting(pontos_ruins):\n\n    df = pd.DataFrame(columns=['latitude','longitude','pontos'])\n    for index, row in pontos_ruins.iterrows():\n        #print(df['pontos'])\n        ponto_encontrado = select_bad_point_nearby(row, df)\n        #print(type(ponto_encontrado))\n        if(ponto_encontrado < 0):\n            data = pd.Series({'latitude':row['latitude'], 'longitude':row['longitude'], 'pontos':1})\n            df = df.append(data, ignore_index=True)\n        else:\n            #return df\n            df.loc[ponto_encontrado,'pontos'] += 1\n    return df\n\ndef detect_bad_points(df):\n    # Sophisticaded method\n    cut_limit = df['var'].quantile([0.95, 1]).iloc[0]\n\n    df = df[df['var'] > cut_limit]\n\n    return df\n\ndef preprocess_file(path):\n\n    df = read_file(path)\n    main_col = define_col_to_use(df)\n    df['accy'] = df[main_col] * 9.8\n    \n    # Agrupa os pontos por coordenada, calculando variância\n    f = {'accy': 'var', 'time': 'min'}\n    pontos = df.groupby(['Latitude', 'Longitude'], as_index=False).agg(f)[['Latitude', 'Longitude', 'accy', 'time']].sort_values('time', ascending=True).reset_index()\n    pontos.drop(['index', 'time'], axis=1, inplace=True)\n    pontos.columns = ['latitude', 'longitude', 'var']\n    pontos_ruins = detect_bad_points(pontos)\n\n    return pontos_ruins\n\ndef is_it_near_bumps(row, bumps):\n    \n    point_lat_sup = row['latitude'] + 0.0001\n    point_lon_sup = row['longitude'] + 0.0001\n    point_lat_inf = row['latitude'] - 0.0001\n    point_lon_inf = row['longitude'] - 0.0001\n\n    return (((bumps['lat'] > point_lat_inf) & (bumps['lon'] > point_lon_inf)) & ((bumps['lat'] < point_lat_sup) & (bumps['lon'] < point_lon_sup))).any()\n\ndef remove_speed_bumps(bad_points):\n    columns = ['lat','lon','color']\n    bumps = pd.read_csv('../input/lombadas-sp/lombadasCatalogadasFinal.csv.txt', delimiter=';', names=columns)\n    bumps.drop('color', axis=1, inplace=True)\n\n    bad_points_filter = bad_points.apply(lambda x: is_it_near_bumps(x, bumps), axis=1)\n\n    return bad_points[~bad_points_filter]",
      "execution_count": null,
      "outputs": []
    },
    {
      "metadata": {
        "_uuid": "e6279799e9991dbaf111af2324903cdebfd3287f"
      },
      "cell_type": "markdown",
      "source": "# 3 Executing Main Pipeline"
    },
    {
      "metadata": {
        "trusted": true,
        "_uuid": "4a975f4254eabc5dfd08f1fd3cd52ff236e8f723"
      },
      "cell_type": "code",
      "source": "def read_files_in_path(path):\n    df = pd.DataFrame()\n    for (dirpath, _, filenames) in walk(path):\n        for file in filenames:\n            if(dirpath == '../data/lombadas-sp'):\n                continue\n            df = df.append( preprocess_file(str(dirpath) + '/' + str(file) ))\n    return df\n\ndf = read_files_in_path('../data') # retorna pontos ruins dos arquivos csvs dentro da pasta input\ndf_normais = remove_speed_bumps(df)\n\ndf = holes_voting(df_normais)",
      "execution_count": null,
      "outputs": []
    },
    {
      "metadata": {
        "_uuid": "aad34e9fbdb787e83781ee3e0f94f72bd9dd9abb"
      },
      "cell_type": "markdown",
      "source": "## 3.1 Cataloging the identified points"
    },
    {
      "metadata": {
        "trusted": true,
        "_uuid": "cb53c140002fbdf1297cad3599131998a5b2db4e"
      },
      "cell_type": "code",
      "source": "color_limits = df['pontos'].quantile([0.5, 0.75, 1])\n\ndf['color'] = 'yellow'\ndf.loc[((df['pontos'] > color_limits[0.5]) & (df['pontos'] <= color_limits[0.75])), 'color'] = \"orange\"\ndf.loc[((df['pontos'] > color_limits[0.75]) & (df['pontos'] <= color_limits[1])), 'color'] = \"red\"\n\ndf.drop('pontos', axis=1, inplace=True)",
      "execution_count": null,
      "outputs": []
    },
    {
      "metadata": {
        "_uuid": "0a7dfdd6a8dc311529f2c72cf4e3b06be478290c"
      },
      "cell_type": "markdown",
      "source": "## 3.2 Saving results"
    },
    {
      "metadata": {
        "trusted": true,
        "_uuid": "2166dc4384ef47c04e4154b77d1a1039abd99f0d"
      },
      "cell_type": "code",
      "source": "df.to_csv('identified_potholes.csv', index=False)",
      "execution_count": null,
      "outputs": []
    },
    {
      "metadata": {
        "_uuid": "ea798b5d73c470b731bae1322349c86992fbd19d"
      },
      "cell_type": "markdown",
      "source": "# 4 Plotting\n## 4.1 Bumps Map"
    },
    {
      "metadata": {
        "trusted": true,
        "_uuid": "0430d61a85f440d89b2ce7cea31c159c3e1b6d37"
      },
      "cell_type": "code",
      "source": "bumps = pd.read_csv('../data/cataloged_street_bumps/lombadasCatalogadasFinal.csv', sep=';')",
      "execution_count": null,
      "outputs": []
    },
    {
      "metadata": {
        "trusted": true,
        "_uuid": "d6dc1bfabdcbd22df661a7ae3a254256525a4444",
        "scrolled": true
      },
      "cell_type": "code",
      "source": "\nmap_plot = fol.Map(location=[bumps.iloc[0][0], bumps.iloc[0][1]], zoom_start=13)\nfor _, ponto in bumps.iterrows():\n    pop = \\\n        'ID: ' + str(ponto.name) + '; ' + \\\n        'Latitude: ' + str(ponto['lat']) + '; ' + \\\n        'Longitude: ' + str(ponto['lon']) + '; '\n\n    fol.Circle(popup=pop, location=[ponto['lat'], ponto['lon']], radius=5, \\\n               fill=True, fill_color=ponto['color'], color=ponto['color']).add_to(map_plot)\nmap_plot\n",
      "execution_count": null,
      "outputs": []
    },
    {
      "metadata": {
        "_uuid": "0b4831d320ccdb7aa9a381f16981c896c70e5c37"
      },
      "cell_type": "markdown",
      "source": "## 4.2 Potholes Map"
    },
    {
      "metadata": {
        "scrolled": false,
        "trusted": true,
        "_uuid": "b10d934cebcc5b2f9bc2f922b9d05d266daaa73d"
      },
      "cell_type": "code",
      "source": "pontos = df\nmap_plot = fol.Map(location=[pontos.iloc[0][0], pontos.iloc[0][1]], zoom_start=13)\nfor _, ponto in pontos.iterrows():\n    pop = \\\n        'ID: ' + str(ponto.name) + '; ' + \\\n        'Latitude: ' + str(ponto['latitude']) + '; ' + \\\n        'Longitude: ' + str(ponto['longitude']) + '; '\n\n    fol.Circle(popup=pop, location=[ponto['latitude'], ponto['longitude']], radius=5, \\\n               fill=True, fill_color='red', color='red').add_to(map_plot)\nmap_plot\n",
      "execution_count": null,
      "outputs": []
    }
  ],
  "metadata": {
    "kernelspec": {
      "display_name": "Python 3",
      "language": "python",
      "name": "python3"
    },
    "language_info": {
      "name": "python",
      "version": "3.6.6",
      "mimetype": "text/x-python",
      "codemirror_mode": {
        "name": "ipython",
        "version": 3
      },
      "pygments_lexer": "ipython3",
      "nbconvert_exporter": "python",
      "file_extension": ".py"
    }
  },
  "nbformat": 4,
  "nbformat_minor": 1
}